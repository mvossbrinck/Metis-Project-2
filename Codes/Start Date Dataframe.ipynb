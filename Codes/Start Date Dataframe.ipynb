{
 "cells": [
  {
   "cell_type": "code",
   "execution_count": 133,
   "metadata": {},
   "outputs": [
    {
     "data": {
      "text/plain": [
       "4810"
      ]
     },
     "execution_count": 133,
     "metadata": {},
     "output_type": "execute_result"
    }
   ],
   "source": [
    "import pickle\n",
    "import pandas as pd\n",
    "import string \n",
    "\n",
    "with open('recipe_dates.pickle','rb') as read_file:\n",
    "    recipe_dates = pickle.load(read_file)\n",
    "\n",
    "len(recipe_dates)"
   ]
  },
  {
   "cell_type": "code",
   "execution_count": 134,
   "metadata": {},
   "outputs": [],
   "source": [
    "recipe_start_dates = []\n",
    "for dic in recipe_dates:\n",
    "    for key in dic:\n",
    "        list_item = [key, dic[key]]\n",
    "        recipe_start_dates.append(list_item)\n",
    "\n",
    "recipe_start_dates_df = pd.DataFrame(recipe_start_dates, columns = ('recipe_link', 'recipe_start_date'))"
   ]
  },
  {
   "cell_type": "code",
   "execution_count": 135,
   "metadata": {},
   "outputs": [],
   "source": [
    "recipe_start_dates_df['recipe_start_date'] = pd.to_datetime(recipe_start_dates_df['recipe_start_date'])"
   ]
  },
  {
   "cell_type": "code",
   "execution_count": 136,
   "metadata": {},
   "outputs": [],
   "source": [
    "recipe_start_dates_df['name'] = recipe_start_dates_df['recipe_link'].str.lstrip('/recipes/')\n",
    "recipe_start_dates_df['name'] = recipe_start_dates_df['name'].str.replace('[0-9]+','')\n",
    "recipe_start_dates_df['name'] = recipe_start_dates_df['name'].str.replace('-',' ')\n",
    "recipe_start_dates_df['name'] = recipe_start_dates_df['name'].str.title().str.lstrip()"
   ]
  },
  {
   "cell_type": "code",
   "execution_count": 137,
   "metadata": {},
   "outputs": [
    {
     "data": {
      "text/html": [
       "<div>\n",
       "<style scoped>\n",
       "    .dataframe tbody tr th:only-of-type {\n",
       "        vertical-align: middle;\n",
       "    }\n",
       "\n",
       "    .dataframe tbody tr th {\n",
       "        vertical-align: top;\n",
       "    }\n",
       "\n",
       "    .dataframe thead th {\n",
       "        text-align: right;\n",
       "    }\n",
       "</style>\n",
       "<table border=\"1\" class=\"dataframe\">\n",
       "  <thead>\n",
       "    <tr style=\"text-align: right;\">\n",
       "      <th></th>\n",
       "      <th>recipe_link</th>\n",
       "      <th>recipe_start_date</th>\n",
       "      <th>name</th>\n",
       "    </tr>\n",
       "  </thead>\n",
       "  <tbody>\n",
       "    <tr>\n",
       "      <th>0</th>\n",
       "      <td>/recipes/100-obstkuchen-fruit-tarts</td>\n",
       "      <td>2015-10-17</td>\n",
       "      <td>Obstkuchen Fruit Tarts</td>\n",
       "    </tr>\n",
       "    <tr>\n",
       "      <th>1</th>\n",
       "      <td>/recipes/1000-potato-cheese-pancakes</td>\n",
       "      <td>2014-10-12</td>\n",
       "      <td>Potato Cheese Pancakes</td>\n",
       "    </tr>\n",
       "    <tr>\n",
       "      <th>2</th>\n",
       "      <td>/recipes/10010-barbecued-medallions-of-pork</td>\n",
       "      <td>2015-09-14</td>\n",
       "      <td>Barbecued Medallions Of Pork</td>\n",
       "    </tr>\n",
       "    <tr>\n",
       "      <th>3</th>\n",
       "      <td>/recipes/10015-scrambled-eggs-with-caviar</td>\n",
       "      <td>2015-09-14</td>\n",
       "      <td>Scrambled Eggs With Caviar</td>\n",
       "    </tr>\n",
       "    <tr>\n",
       "      <th>4</th>\n",
       "      <td>/recipes/10017-troisgros-potatoes-gratin</td>\n",
       "      <td>2015-06-26</td>\n",
       "      <td>Troisgros Potatoes Gratin</td>\n",
       "    </tr>\n",
       "    <tr>\n",
       "      <th>5</th>\n",
       "      <td>/recipes/10018-fillet-of-beef-in-red-wine-sauce</td>\n",
       "      <td>2015-03-05</td>\n",
       "      <td>Fillet Of Beef In Red Wine Sauce</td>\n",
       "    </tr>\n",
       "    <tr>\n",
       "      <th>6</th>\n",
       "      <td>/recipes/10030-one-layer-chocolate-cake</td>\n",
       "      <td>2014-11-12</td>\n",
       "      <td>One Layer Chocolate Cake</td>\n",
       "    </tr>\n",
       "    <tr>\n",
       "      <th>7</th>\n",
       "      <td>/recipes/10035-orange-pork-ragout-with-beans</td>\n",
       "      <td>2015-05-02</td>\n",
       "      <td>Orange Pork Ragout With Beans</td>\n",
       "    </tr>\n",
       "    <tr>\n",
       "      <th>8</th>\n",
       "      <td>/recipes/1004-pasta-with-fennel-and-sardines</td>\n",
       "      <td>2014-09-22</td>\n",
       "      <td>Pasta With Fennel And Sardines</td>\n",
       "    </tr>\n",
       "    <tr>\n",
       "      <th>9</th>\n",
       "      <td>/recipes/10044-focaccia-a-pizzalike-bread</td>\n",
       "      <td>2015-03-12</td>\n",
       "      <td>Focaccia A Pizzalike Bread</td>\n",
       "    </tr>\n",
       "    <tr>\n",
       "      <th>10</th>\n",
       "      <td>/recipes/10046-grilled-marinated-swordfish-steaks</td>\n",
       "      <td>2015-03-11</td>\n",
       "      <td>Grilled Marinated Swordfish Steaks</td>\n",
       "    </tr>\n",
       "    <tr>\n",
       "      <th>11</th>\n",
       "      <td>/recipes/10056-keftikes-de-poyo-chicken-croque...</td>\n",
       "      <td>2015-09-15</td>\n",
       "      <td>Keftikes De Poyo Chicken Croquettes</td>\n",
       "    </tr>\n",
       "    <tr>\n",
       "      <th>12</th>\n",
       "      <td>/recipes/10058-lucas-schoormanss-lemon-tart</td>\n",
       "      <td>2014-10-01</td>\n",
       "      <td>Lucas Schoormanss Lemon Tart</td>\n",
       "    </tr>\n",
       "    <tr>\n",
       "      <th>13</th>\n",
       "      <td>/recipes/1006-pasta-with-bread-crumbs-and-anch...</td>\n",
       "      <td>2017-06-02</td>\n",
       "      <td>Pasta With Bread Crumbs And Anchovies Sicilian...</td>\n",
       "    </tr>\n",
       "    <tr>\n",
       "      <th>14</th>\n",
       "      <td>/recipes/10073-pasta-with-grilled-summer-veget...</td>\n",
       "      <td>2015-05-22</td>\n",
       "      <td>Pasta With Grilled Summer Vegetables</td>\n",
       "    </tr>\n",
       "  </tbody>\n",
       "</table>\n",
       "</div>"
      ],
      "text/plain": [
       "                                          recipe_link recipe_start_date  \\\n",
       "0                 /recipes/100-obstkuchen-fruit-tarts        2015-10-17   \n",
       "1                /recipes/1000-potato-cheese-pancakes        2014-10-12   \n",
       "2         /recipes/10010-barbecued-medallions-of-pork        2015-09-14   \n",
       "3           /recipes/10015-scrambled-eggs-with-caviar        2015-09-14   \n",
       "4            /recipes/10017-troisgros-potatoes-gratin        2015-06-26   \n",
       "5     /recipes/10018-fillet-of-beef-in-red-wine-sauce        2015-03-05   \n",
       "6             /recipes/10030-one-layer-chocolate-cake        2014-11-12   \n",
       "7        /recipes/10035-orange-pork-ragout-with-beans        2015-05-02   \n",
       "8        /recipes/1004-pasta-with-fennel-and-sardines        2014-09-22   \n",
       "9           /recipes/10044-focaccia-a-pizzalike-bread        2015-03-12   \n",
       "10  /recipes/10046-grilled-marinated-swordfish-steaks        2015-03-11   \n",
       "11  /recipes/10056-keftikes-de-poyo-chicken-croque...        2015-09-15   \n",
       "12        /recipes/10058-lucas-schoormanss-lemon-tart        2014-10-01   \n",
       "13  /recipes/1006-pasta-with-bread-crumbs-and-anch...        2017-06-02   \n",
       "14  /recipes/10073-pasta-with-grilled-summer-veget...        2015-05-22   \n",
       "\n",
       "                                                 name  \n",
       "0                              Obstkuchen Fruit Tarts  \n",
       "1                              Potato Cheese Pancakes  \n",
       "2                        Barbecued Medallions Of Pork  \n",
       "3                          Scrambled Eggs With Caviar  \n",
       "4                           Troisgros Potatoes Gratin  \n",
       "5                    Fillet Of Beef In Red Wine Sauce  \n",
       "6                            One Layer Chocolate Cake  \n",
       "7                       Orange Pork Ragout With Beans  \n",
       "8                      Pasta With Fennel And Sardines  \n",
       "9                          Focaccia A Pizzalike Bread  \n",
       "10                 Grilled Marinated Swordfish Steaks  \n",
       "11                Keftikes De Poyo Chicken Croquettes  \n",
       "12                       Lucas Schoormanss Lemon Tart  \n",
       "13  Pasta With Bread Crumbs And Anchovies Sicilian...  \n",
       "14               Pasta With Grilled Summer Vegetables  "
      ]
     },
     "execution_count": 137,
     "metadata": {},
     "output_type": "execute_result"
    }
   ],
   "source": [
    "recipe_start_dates_df.head(15)"
   ]
  },
  {
   "cell_type": "code",
   "execution_count": 138,
   "metadata": {},
   "outputs": [
    {
     "name": "stdout",
     "output_type": "stream",
     "text": [
      "<class 'pandas.core.frame.DataFrame'>\n",
      "RangeIndex: 4810 entries, 0 to 4809\n",
      "Data columns (total 3 columns):\n",
      " #   Column             Non-Null Count  Dtype         \n",
      "---  ------             --------------  -----         \n",
      " 0   recipe_link        4810 non-null   object        \n",
      " 1   recipe_start_date  4725 non-null   datetime64[ns]\n",
      " 2   name               4810 non-null   object        \n",
      "dtypes: datetime64[ns](1), object(2)\n",
      "memory usage: 112.9+ KB\n"
     ]
    }
   ],
   "source": [
    "recipe_start_dates_df.info()"
   ]
  },
  {
   "cell_type": "code",
   "execution_count": 139,
   "metadata": {},
   "outputs": [],
   "source": [
    "with open('start_dates.pickle', 'wb') as to_write:\n",
    "        pickle.dump(recipe_start_dates_df, to_write)"
   ]
  },
  {
   "cell_type": "code",
   "execution_count": null,
   "metadata": {},
   "outputs": [],
   "source": []
  }
 ],
 "metadata": {
  "kernelspec": {
   "display_name": "Python 3",
   "language": "python",
   "name": "python3"
  },
  "language_info": {
   "codemirror_mode": {
    "name": "ipython",
    "version": 3
   },
   "file_extension": ".py",
   "mimetype": "text/x-python",
   "name": "python",
   "nbconvert_exporter": "python",
   "pygments_lexer": "ipython3",
   "version": "3.8.5"
  }
 },
 "nbformat": 4,
 "nbformat_minor": 4
}
