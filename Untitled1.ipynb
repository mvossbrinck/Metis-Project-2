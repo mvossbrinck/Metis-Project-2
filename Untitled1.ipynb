{
 "cells": [
  {
   "cell_type": "code",
   "execution_count": 17,
   "metadata": {},
   "outputs": [
    {
     "data": {
      "text/plain": [
       "'/recipes/1013449-rib-roast-of-beef'"
      ]
     },
     "execution_count": 17,
     "metadata": {},
     "output_type": "execute_result"
    }
   ],
   "source": [
    "import pickle\n",
    "\n",
    "all_url = []\n",
    "\n",
    "with open('beef.pickle','rb') as read_file:\n",
    "    beef = pickle.load(read_file)\n",
    "with open('bread.pickle','rb') as read_file:\n",
    "    bread = pickle.load(read_file)\n",
    "with open('chicken.pickle','rb') as read_file:\n",
    "    chicken = pickle.load(read_file)\n",
    "with open('chocolate.pickle','rb') as read_file:\n",
    "    chocolate = pickle.load(read_file)    \n",
    "with open('egg.pickle','rb') as read_file:\n",
    "    egg = pickle.load(read_file)\n",
    "with open('fruit.pickle','rb') as read_file:\n",
    "    fruit = pickle.load(read_file)\n",
    "with open('pasta.pickle','rb') as read_file:\n",
    "    pasta = pickle.load(read_file)\n",
    "with open('pork.pickle','rb') as read_file:\n",
    "    pork = pickle.load(read_file)    \n",
    "with open('potato.pickle','rb') as read_file:\n",
    "    potato = pickle.load(read_file)\n",
    "with open('seafood.pickle','rb') as read_file:\n",
    "    seafood = pickle.load(read_file)\n",
    "with open('vegetarian.pickle','rb') as read_file:\n",
    "    vegetarian = pickle.load(read_file)\n",
    "\n",
    "all_url = beef + bread + chicken + chocolate + egg + fruit + pasta + pork + potato + seafood + vegetarian\n",
    "len(all_url)\n",
    "all_url[0]"
   ]
  },
  {
   "cell_type": "code",
   "execution_count": 19,
   "metadata": {},
   "outputs": [],
   "source": []
  },
  {
   "cell_type": "code",
   "execution_count": 22,
   "metadata": {},
   "outputs": [],
   "source": []
  },
  {
   "cell_type": "code",
   "execution_count": 23,
   "metadata": {},
   "outputs": [
    {
     "data": {
      "text/plain": [
       "['/recipes/1012714-pasta-with-marinated-tomatoes-and-summer-herbs',\n",
       " '/recipes/1012716-penne-with-heirloom-tomatoes-basil-green-beans-and-feta',\n",
       " '/recipes/1012720-brandied-peaches',\n",
       " '/recipes/1012721-agua-fresca',\n",
       " '/recipes/1012732-bacon-lettuce-and-plum-sandwiches',\n",
       " '/recipes/1012745-grilled-pork-skewers-with-peanut-basil-sauce',\n",
       " '/recipes/1012746-pbj-sandwich-cookies',\n",
       " '/recipes/1012752-julia-moskins-beef-bourguignon',\n",
       " '/recipes/1012759-a-mess-of-pork-chops-with-dijon-dressing',\n",
       " '/recipes/1012765-pasta-with-beans-and-mussels',\n",
       " '/recipes/1012769-mixed-grain-and-blueberry-muffins',\n",
       " '/recipes/1012771-chicken-and-vegetable-wrap',\n",
       " '/recipes/1012776-restaurant-style-pork-chops',\n",
       " '/recipes/1012784-stir-fried-pork-and-greens-with-noodles',\n",
       " '/recipes/1012788-a-potato-dish-for-julia',\n",
       " '/recipes/1012789-boeuf-bourguignon',\n",
       " '/recipes/1012792-shell-beans-and-potato-ragout-with-swiss-chard',\n",
       " '/recipes/1012794-puree-of-shell-beans-and-potato',\n",
       " '/recipes/1012796-sea-scallops-with-brown-butter-capers-and-lemon',\n",
       " '/recipes/1012800-pasta-with-walnut-sauce-and-broccoli-raab',\n",
       " '/recipes/1012801-korean-fried-chicken',\n",
       " '/recipes/1012802-quick-walnut-bread',\n",
       " '/recipes/1012805-creamy-pasta-with-smoked-bacon-and-peas',\n",
       " '/recipes/1012810-endive-and-potato-gratin-with-walnuts',\n",
       " '/recipes/1012815-pane-integrale-whole-wheat-bread']"
      ]
     },
     "execution_count": 23,
     "metadata": {},
     "output_type": "execute_result"
    }
   ],
   "source": []
  },
  {
   "cell_type": "code",
   "execution_count": null,
   "metadata": {},
   "outputs": [],
   "source": []
  }
 ],
 "metadata": {
  "kernelspec": {
   "display_name": "Python 3",
   "language": "python",
   "name": "python3"
  },
  "language_info": {
   "codemirror_mode": {
    "name": "ipython",
    "version": 3
   },
   "file_extension": ".py",
   "mimetype": "text/x-python",
   "name": "python",
   "nbconvert_exporter": "python",
   "pygments_lexer": "ipython3",
   "version": "3.8.5"
  }
 },
 "nbformat": 4,
 "nbformat_minor": 4
}
