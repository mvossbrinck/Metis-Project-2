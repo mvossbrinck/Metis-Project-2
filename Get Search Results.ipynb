{
 "cells": [
  {
   "cell_type": "code",
   "execution_count": 103,
   "metadata": {},
   "outputs": [],
   "source": [
    "from bs4 import BeautifulSoup\n",
    "import requests\n",
    "import time, os\n",
    "import pickle\n",
    "import random"
   ]
  },
  {
   "cell_type": "code",
   "execution_count": 104,
   "metadata": {},
   "outputs": [],
   "source": [
    "from selenium import webdriver\n",
    "from selenium.webdriver.common.keys import Keys\n",
    "\n",
    "chromedriver = \"/Applications/chromedriver\" # path to the chromedriver executable\n",
    "os.environ[\"webdriver.chrome.driver\"] = chromedriver"
   ]
  },
  {
   "cell_type": "code",
   "execution_count": 107,
   "metadata": {},
   "outputs": [],
   "source": [
    "driver = webdriver.Chrome(chromedriver)"
   ]
  },
  {
   "cell_type": "code",
   "execution_count": 119,
   "metadata": {},
   "outputs": [],
   "source": [
    "def get_url(query, page_limit, file_name):\n",
    "    nytcook_search = \"https://cooking.nytimes.com/search?q=\"\n",
    "    nytcook_query = nytcook_search + query.replace(' ', '+') \n",
    "    page_num = 2\n",
    "    url_list = []\n",
    "    \n",
    "    for i in range(1,page_limit + 1):\n",
    "        if i == 1:\n",
    "            driver.get(nytcook_query)\n",
    "            soup = BeautifulSoup(driver.page_source, 'html.parser')\n",
    "            for div in soup.find_all('article', class_='card recipe-card'):\n",
    "                url_list.append(div.get(\"data-url\"))\n",
    "        \n",
    "        elif i > 1:\n",
    "            nytcook_query = nytcook_search + query.replace(' ', '+') + '&page=' + str(page_num)\n",
    "            driver.get(nytcook_query)\n",
    "            soup = BeautifulSoup(driver.page_source, 'html.parser')\n",
    "            for div in soup.find_all('article', class_='card recipe-card'):\n",
    "                url_list.append(div.get(\"data-url\"))\n",
    "            page_num += 1\n",
    "            time.sleep(5+2*random.random())\n",
    "\n",
    "            \n",
    "    with open(file_name, 'wb') as to_write:\n",
    "        pickle.dump(url_list, to_write)\n",
    "  \n",
    "    return url_list\n",
    "\n",
    "\n",
    "#get_url('potato', 10, 'potato.pickle')\n",
    "#get_url('chicken', 10, 'chicken.pickle')\n",
    "#get_url('beef', 10, 'beef.pickle')\n",
    "#get_url('vegetarian', 10, 'vegetarian.pickle')\n",
    "#get_url('pasta', 10, 'pasta.pickle')\n",
    "#get_url('seafood', 10, 'seafood.pickle')\n",
    "#get_url('pork', 10, 'pork.pickle')\n",
    "#get_url('chocolate', 10, 'chocolate.pickle')\n",
    "#get_url('fruit', 10, 'fruit.pickle')\n",
    "#get_url('egg', 10, 'egg.pickle')\n",
    "#get_url('bread', 10, 'bread.pickle')"
   ]
  },
  {
   "cell_type": "code",
   "execution_count": null,
   "metadata": {},
   "outputs": [],
   "source": [
    "all_url = []\n",
    "\n",
    "with open('beef.pickle','rb') as read_file:\n",
    "    beef = pickle.load(read_file)\n",
    "with open('bread.pickle','rb') as read_file:\n",
    "    bread = pickle.load(read_file)\n",
    "with open('chicken.pickle','rb') as read_file:\n",
    "    chicken = pickle.load(read_file)\n",
    "with open('chocolate.pickle','rb') as read_file:\n",
    "    chocolate = pickle.load(read_file)    \n",
    "with open('egg.pickle','rb') as read_file:\n",
    "    egg = pickle.load(read_file)\n",
    "with open('fruit.pickle','rb') as read_file:\n",
    "    fruit = pickle.load(read_file)\n",
    "with open('pasta.pickle','rb') as read_file:\n",
    "    pasta = pickle.load(read_file)\n",
    "with open('pork.pickle','rb') as read_file:\n",
    "    pork = pickle.load(read_file)    \n",
    "with open('potato.pickle','rb') as read_file:\n",
    "    potato = pickle.load(read_file)\n",
    "with open('seafood.pickle','rb') as read_file:\n",
    "    seafood = pickle.load(read_file)\n",
    "with open('vegetarian.pickle','rb') as read_file:\n",
    "    vegetarian = pickle.load(read_file)\n",
    "\n",
    "all_url = beef + bread + chicken + chocolate + egg + fruit + pasta + pork + potato + seafood + vegetarian\n",
    "len(all_url)\n",
    "all_url[0]"
   ]
  },
  {
   "cell_type": "code",
   "execution_count": null,
   "metadata": {},
   "outputs": [],
   "source": [
    "all_url.sort()\n",
    "recipe_query_list= list(set(all_url)) "
   ]
  },
  {
   "cell_type": "code",
   "execution_count": null,
   "metadata": {},
   "outputs": [],
   "source": [
    "with open('all_recipes_first.pickle', 'wb') as to_write:\n",
    "    pickle.dump(recipe_query_list, to_write)"
   ]
  },
  {
   "cell_type": "code",
   "execution_count": null,
   "metadata": {},
   "outputs": [],
   "source": [
    "with open('all_recipes_first.pickle','rb') as read_file:\n",
    "    recipe_check = pickle.load(read_file)\n",
    "\n",
    "recipe_check[100:125]"
   ]
  }
 ],
 "metadata": {
  "kernelspec": {
   "display_name": "Python 3",
   "language": "python",
   "name": "python3"
  },
  "language_info": {
   "codemirror_mode": {
    "name": "ipython",
    "version": 3
   },
   "file_extension": ".py",
   "mimetype": "text/x-python",
   "name": "python",
   "nbconvert_exporter": "python",
   "pygments_lexer": "ipython3",
   "version": "3.8.5"
  }
 },
 "nbformat": 4,
 "nbformat_minor": 4
}
