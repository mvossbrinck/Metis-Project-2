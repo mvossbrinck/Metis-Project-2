{
 "cells": [
  {
   "cell_type": "markdown",
   "metadata": {},
   "source": [
    "## Pull Individual Recipes from NYT Cooking"
   ]
  },
  {
   "cell_type": "markdown",
   "metadata": {},
   "source": [
    "### Import Packages and Search Result Data"
   ]
  },
  {
   "cell_type": "code",
   "execution_count": null,
   "metadata": {},
   "outputs": [],
   "source": [
    "from bs4 import BeautifulSoup\n",
    "import pandas as pd\n",
    "import requests\n",
    "import json\n",
    "from pprint import pprint\n",
    "import extruct\n",
    "from w3lib.html import get_base_url\n",
    "from fake_useragent import UserAgent\n",
    "import time, os\n",
    "import pickle\n",
    "import random"
   ]
  },
  {
   "cell_type": "code",
   "execution_count": null,
   "metadata": {},
   "outputs": [],
   "source": [
    "with open('all_recipes_first.pickle','rb') as read_file:\n",
    "    recipe_links = pickle.load(read_file)\n",
    "\n",
    "recipe_links_sorted = sorted(recipe_links)"
   ]
  },
  {
   "cell_type": "markdown",
   "metadata": {},
   "source": [
    "### Function to pull each site and extract the individual variables"
   ]
  },
  {
   "cell_type": "code",
   "execution_count": null,
   "metadata": {},
   "outputs": [],
   "source": [
    "def get_recipe_dict(link):\n",
    "    \n",
    "    ua = UserAgent()\n",
    "    user_agent = {'User-agent': ua.random}\n",
    "\n",
    "    base_url = 'https://cooking.nytimes.com'\n",
    "    \n",
    "    #Create full url to scrape\n",
    "    url = base_url + link\n",
    "    \n",
    "    #Request HTML and parse\n",
    "    response = requests.get(url, headers = user_agent)\n",
    "    html = response.text\n",
    "    metadata = extruct.extract(\n",
    "        html,\n",
    "        base_url=get_base_url(html, url),\n",
    "        syntaxes=['json-ld'],\n",
    "      )['json-ld'][0]\n",
    "    \n",
    "    \n",
    "    \n",
    "    try:\n",
    "        name = metadata['name']\n",
    "    except (TypeError, KeyError, IndexError):\n",
    "        name = None\n",
    "        \n",
    "    try:\n",
    "        number_of_steps = len(metadata['recipeInstructions'])\n",
    "    except (TypeError, KeyError, IndexError):\n",
    "        number_of_steps = None\n",
    "        \n",
    "    try:\n",
    "        number_of_ratings = metadata['aggregateRating']['ratingCount']\n",
    "    except (TypeError, KeyError, IndexError):\n",
    "        number_of_ratings = None\n",
    "    \n",
    "    try:\n",
    "        rating_value = metadata['aggregateRating']['ratingValue']\n",
    "    except (TypeError, KeyError, IndexError):   \n",
    "        rating_value = None\n",
    "    \n",
    "    try:\n",
    "        author = metadata['author']['name']\n",
    "    except (TypeError, KeyError, IndexError):\n",
    "        author = None\n",
    "    \n",
    "    try:\n",
    "        recipe_time = metadata['totalTime']\n",
    "    except (TypeError, KeyError, IndexError):\n",
    "        recipe_time = None\n",
    "        \n",
    "    try:\n",
    "        number_of_ingredients = len(metadata['recipeIngredient'])\n",
    "    except (TypeError, KeyError, IndexError):\n",
    "        number_of_ingredients = None\n",
    "    \n",
    "    try:\n",
    "        number_of_servings = metadata['recipeYield']\n",
    "    except (TypeError, KeyError, IndexError):\n",
    "        number_of_servings = None\n",
    "    \n",
    "    try:\n",
    "        recipe_categories = metadata['recipeCategory']\n",
    "    except (TypeError, KeyError, IndexError):\n",
    "        recipe_categories = None\n",
    "    \n",
    "    try:\n",
    "        recipe_keywords = metadata['keywords']\n",
    "    except (TypeError, KeyError, IndexError):\n",
    "        recipe_keywords = None\n",
    "    \n",
    "    try:\n",
    "        image_link = metadata['image']\n",
    "    except (TypeError, KeyError, IndexError):\n",
    "        image_link = None\n",
    "    \n",
    "    \n",
    "    \n",
    "    headers = ['name', 'number_of_steps', 'number_of_ratings', 'rating_value', 'author', \n",
    "               'recipe_time', 'number_of_ingredients', 'number_of_servings', 'recipe_categories',\n",
    "               'recipe_keywords', 'image_link']\n",
    "\n",
    "\n",
    "    recipe_dict = dict(zip(headers, [name, number_of_steps, number_of_ratings, rating_value, author, \n",
    "                            recipe_time, number_of_ingredients, number_of_servings, \n",
    "                            recipe_categories, recipe_keywords, image_link]))\n",
    "    \n",
    "    time.sleep(5+2*random.random())\n",
    "    \n",
    "    return recipe_dict\n"
   ]
  },
  {
   "cell_type": "markdown",
   "metadata": {},
   "source": [
    "### Running the function through the list of recipe URLs"
   ]
  },
  {
   "cell_type": "code",
   "execution_count": null,
   "metadata": {},
   "outputs": [],
   "source": [
    "# I got kicked out of the site multiple times and ran into a couple errors so \n",
    "# this was run multiple times, adjusting the recipe_links_subset data source accordingly\n",
    "\n",
    "recipe_info_list = []\n",
    "\n",
    "recipe_links_subset = recipe_links_sorted[:]\n",
    "for link in recipe_links_subset:\n",
    "    recipe_info_list.append(get_recipe_dict(link))\n",
    "\n",
    "len(recipe_info_list)"
   ]
  },
  {
   "cell_type": "markdown",
   "metadata": {},
   "source": [
    "### Exporting data and checking that the export worked correctly"
   ]
  },
  {
   "cell_type": "code",
   "execution_count": null,
   "metadata": {},
   "outputs": [],
   "source": [
    "with open('html_data5.pickle', 'wb') as to_write:\n",
    "        pickle.dump(recipe_info_list, to_write)"
   ]
  },
  {
   "cell_type": "code",
   "execution_count": null,
   "metadata": {},
   "outputs": [],
   "source": [
    "with open('html_data5.pickle','rb') as read_file:\n",
    "    test = pickle.load(read_file)\n",
    "\n",
    "len(test)"
   ]
  }
 ],
 "metadata": {
  "kernelspec": {
   "display_name": "Python 3",
   "language": "python",
   "name": "python3"
  },
  "language_info": {
   "codemirror_mode": {
    "name": "ipython",
    "version": 3
   },
   "file_extension": ".py",
   "mimetype": "text/x-python",
   "name": "python",
   "nbconvert_exporter": "python",
   "pygments_lexer": "ipython3",
   "version": "3.8.5"
  }
 },
 "nbformat": 4,
 "nbformat_minor": 4
}
