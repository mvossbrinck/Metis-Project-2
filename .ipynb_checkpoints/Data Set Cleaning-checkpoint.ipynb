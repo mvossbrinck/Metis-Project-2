{
 "cells": [
  {
   "cell_type": "markdown",
   "metadata": {},
   "source": [
    "## Cleaning and Joining Data Sets"
   ]
  },
  {
   "cell_type": "markdown",
   "metadata": {},
   "source": [
    "### Import Packages"
   ]
  },
  {
   "cell_type": "code",
   "execution_count": null,
   "metadata": {},
   "outputs": [],
   "source": [
    "import pickle \n",
    "import pandas as pd\n",
    "import matplotlib.pyplot as plt\n",
    "from datetime import date\n",
    "from itertools import chain\n",
    "import itertools\n",
    "import numpy as np"
   ]
  },
  {
   "cell_type": "markdown",
   "metadata": {},
   "source": [
    "### Open and Join Data Sources"
   ]
  },
  {
   "cell_type": "code",
   "execution_count": null,
   "metadata": {},
   "outputs": [],
   "source": [
    "with open('Data Sets/Recipe_Data_Scrape.pickle','rb') as read_file:\n",
    "    recipe_dictionary = pickle.load(read_file)"
   ]
  },
  {
   "cell_type": "code",
   "execution_count": null,
   "metadata": {},
   "outputs": [],
   "source": [
    "recipe_data = pd.DataFrame(recipe_dictionary, \n",
    "                columns =['name', 'number_of_steps', 'number_of_ratings', 'rating_value', 'author',\n",
    "                         'recipe_time', 'number_of_ingredients', 'number_of_servings', 'image_link']) \n",
    "\n",
    "recipe_data.info()"
   ]
  },
  {
   "cell_type": "code",
   "execution_count": null,
   "metadata": {},
   "outputs": [],
   "source": [
    "recipe_data.drop(columns =['image_link'])\n",
    "recipe_data['rating_value'].value_counts()"
   ]
  },
  {
   "cell_type": "code",
   "execution_count": null,
   "metadata": {},
   "outputs": [],
   "source": [
    "with open('Data Sets/Cleaned_Date_Data.pickle','rb') as read_file:\n",
    "    recipe_start_dates = pickle.load(read_file)   \n"
   ]
  },
  {
   "cell_type": "code",
   "execution_count": null,
   "metadata": {},
   "outputs": [],
   "source": [
    "full_recipe_data = recipe_data.join(recipe_start_dates, rsuffix = '_other')\n",
    "\n",
    "full_recipe_data.head(5)"
   ]
  },
  {
   "cell_type": "markdown",
   "metadata": {},
   "source": [
    "### Find Top Categories and Keywords"
   ]
  },
  {
   "cell_type": "code",
   "execution_count": null,
   "metadata": {},
   "outputs": [],
   "source": [
    "categories = pd.DataFrame(recipe_dictionary, columns =['name','recipe_categories'])\n",
    "find_categories = pd.DataFrame(recipe_dictionary, columns =['recipe_categories'])\n",
    "categories_list = find_categories.values.tolist()\n",
    "array = np.array(categories_list)\n",
    "merged = list(itertools.chain.from_iterable(array))\n",
    "new_list1 = [y for x in merged for y in x.split(',')]\n",
    "new_list2 = [s.strip() for s in new_list1]\n",
    "new_list3 = sorted(new_list2)\n",
    "merged\n",
    "res = [] \n",
    "[res.append(x) for x in new_list3 if x not in res] \n",
    "test = [(x, new_list3.count(x)) for x in set(new_list3)]\n"
   ]
  },
  {
   "cell_type": "code",
   "execution_count": null,
   "metadata": {},
   "outputs": [],
   "source": [
    "# Function to find top categories and keywords\n",
    "def Sort_Tuple(tup):  \n",
    "    tup.sort(key = lambda x: x[1], reverse = True)  \n",
    "    return tup  \n",
    "    # used https://www.geeksforgeeks.org/python-program-to-sort-a-list-of-tuples-by-second-item/\n",
    "\n",
    "Sort_Tuple(test)[:26]"
   ]
  },
  {
   "cell_type": "code",
   "execution_count": null,
   "metadata": {},
   "outputs": [],
   "source": [
    "keywords = pd.DataFrame(recipe_dictionary, columns =['name','recipe_keywords'])\n",
    "find_keywords = pd.DataFrame(recipe_dictionary, columns =['recipe_keywords'])\n",
    "keywords_list = find_keywords.values.tolist()\n",
    "array = np.array(keywords_list)\n",
    "merged = list(itertools.chain.from_iterable(array))\n",
    "new_list1 = [y for x in merged for y in x.split(',')]\n",
    "new_list2 = [s.strip() for s in new_list1]\n",
    "new_list3 = sorted(new_list2)\n",
    "kw = [] \n",
    "[kw.append(x) for x in new_list3 if x not in kw] \n",
    "\n",
    "test2 = [(x, new_list3.count(x)) for x in set(new_list3)]\n",
    "\n",
    "Sort_Tuple(test2)[:26]"
   ]
  },
  {
   "cell_type": "markdown",
   "metadata": {},
   "source": [
    "### Add Top Categories and Keywords to Data Set"
   ]
  },
  {
   "cell_type": "code",
   "execution_count": null,
   "metadata": {},
   "outputs": [],
   "source": [
    "categories['main_course'] = categories['recipe_categories'].str.contains('main course')\n",
    "categories['dinner'] = categories['recipe_categories'].str.contains('dinner')\n",
    "categories['side_dish'] = categories['recipe_categories'].str.contains('side dish')\n",
    "categories['easy'] = categories['recipe_categories'].str.contains('easy')\n",
    "categories['dessert'] = categories['recipe_categories'].str.contains('dessert')\n",
    "categories['quick'] = categories['recipe_categories'].str.contains('quick')\n",
    "categories['weekday'] = categories['recipe_categories'].str.contains('weekday')\n",
    "categories['appetizer'] = categories['recipe_categories'].str.contains('appetizer')\n",
    "categories['lunch'] = categories['recipe_categories'].str.contains('lunch')\n",
    "categories.head()"
   ]
  },
  {
   "cell_type": "code",
   "execution_count": null,
   "metadata": {},
   "outputs": [],
   "source": [
    "keywords['vegetarian'] = keywords['recipe_keywords'].str.contains('vegetarian')\n",
    "keywords['fall'] = keywords['recipe_keywords'].str.contains('fall')\n",
    "keywords['winter'] = keywords['recipe_keywords'].str.contains('winter')\n",
    "keywords['summer'] = keywords['recipe_keywords'].str.contains('summer')\n",
    "keywords.head()"
   ]
  },
  {
   "cell_type": "markdown",
   "metadata": {},
   "source": [
    "### Join and Clean Data Sets "
   ]
  },
  {
   "cell_type": "code",
   "execution_count": null,
   "metadata": {},
   "outputs": [],
   "source": [
    "full_recipe_data_cat = full_recipe_data.join(categories, rsuffix = '_cat')\n",
    "full_recipe_data_cat.info()"
   ]
  },
  {
   "cell_type": "code",
   "execution_count": null,
   "metadata": {},
   "outputs": [],
   "source": [
    "full_recipe_data_key = full_recipe_data_cat.join(keywords, rsuffix = '_key')\n",
    "full_recipe_data_key.info()"
   ]
  },
  {
   "cell_type": "code",
   "execution_count": null,
   "metadata": {},
   "outputs": [],
   "source": [
    "full_recipe_data_key['days_ago'] = (pd.to_datetime(\"now\") - full_recipe_data_key['recipe_start_date']).dt.days\n",
    "full_recipe_data_key['days_ago']"
   ]
  },
  {
   "cell_type": "code",
   "execution_count": null,
   "metadata": {},
   "outputs": [],
   "source": [
    "full_recipe_data_key['recipe_time'].unique()"
   ]
  },
  {
   "cell_type": "code",
   "execution_count": null,
   "metadata": {},
   "outputs": [],
   "source": [
    "full_recipe_data_key['recipe_time_new'] = full_recipe_data_key['recipe_time'].str.split('T').str[1]\n",
    "full_recipe_data_key['recipe_time_hour'] = pd.to_numeric(np.where(full_recipe_data_key['recipe_time_new'].str.contains('H'), full_recipe_data_key['recipe_time_new'].str.split('H').str[0], 0))\n",
    "full_recipe_data_key['recipe_time_min_w_hour'] = np.where(full_recipe_data_key['recipe_time_new'].str.contains('H'), full_recipe_data_key['recipe_time_new'].str.split('H').str[1], 0)\n",
    "full_recipe_data_key['recipe_time_min_no_hour'] =  np.where(full_recipe_data_key['recipe_time_new'].str.contains('H') == False, full_recipe_data_key['recipe_time_new'], 0)\n",
    "full_recipe_data_key['recipe_time_min_w_hour'] = pd.to_numeric(full_recipe_data_key['recipe_time_min_w_hour'].str.strip('M')).fillna(0)\n",
    "full_recipe_data_key['recipe_time_min_no_hour'] = pd.to_numeric(full_recipe_data_key['recipe_time_min_no_hour'].str.strip('M')).fillna(0)\n",
    "full_recipe_data_key['recipe_time_in_min'] = (60*full_recipe_data_key['recipe_time_hour']) + full_recipe_data_key['recipe_time_min_w_hour'] + full_recipe_data_key['recipe_time_min_no_hour']\n"
   ]
  },
  {
   "cell_type": "code",
   "execution_count": null,
   "metadata": {},
   "outputs": [],
   "source": [
    "full_recipe_data_key.drop(columns =['name_cat','name_key','recipe_time_new', 'recipe_time_hour', 'recipe_time_min_w_hour', 'recipe_time_min_no_hour'], inplace = True)\n",
    "full_recipe_data_key.info()"
   ]
  },
  {
   "cell_type": "markdown",
   "metadata": {},
   "source": [
    "### Export Data Set"
   ]
  },
  {
   "cell_type": "code",
   "execution_count": null,
   "metadata": {},
   "outputs": [],
   "source": [
    "with open('Data Sets/Final_Data_Set.pickle', 'wb') as to_write:\n",
    "        pickle.dump(full_recipe_data_key, to_write)"
   ]
  }
 ],
 "metadata": {
  "kernelspec": {
   "display_name": "Python 3",
   "language": "python",
   "name": "python3"
  },
  "language_info": {
   "codemirror_mode": {
    "name": "ipython",
    "version": 3
   },
   "file_extension": ".py",
   "mimetype": "text/x-python",
   "name": "python",
   "nbconvert_exporter": "python",
   "pygments_lexer": "ipython3",
   "version": "3.8.5"
  }
 },
 "nbformat": 4,
 "nbformat_minor": 4
}
