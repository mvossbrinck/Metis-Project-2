{
 "cells": [
  {
   "cell_type": "markdown",
   "metadata": {},
   "source": [
    "## Clean Wayback Machine Data"
   ]
  },
  {
   "cell_type": "markdown",
   "metadata": {},
   "source": [
    "### Import Packages and Code"
   ]
  },
  {
   "cell_type": "code",
   "execution_count": null,
   "metadata": {},
   "outputs": [],
   "source": [
    "import pickle\n",
    "import pandas as pd\n",
    "import string \n",
    "\n",
    "with open('Data Sets/Wayback_Machine_Dates.pickle','rb') as read_file:\n",
    "    recipe_dates = pickle.load(read_file)\n",
    "\n",
    "recipe_dates[1288]"
   ]
  },
  {
   "cell_type": "code",
   "execution_count": null,
   "metadata": {},
   "outputs": [],
   "source": [
    "recipe_dates.pop(1288)\n",
    "recipe_dates[1288]"
   ]
  },
  {
   "cell_type": "markdown",
   "metadata": {},
   "source": [
    "### Change recipe start date dictionary to DF and create data set"
   ]
  },
  {
   "cell_type": "code",
   "execution_count": null,
   "metadata": {},
   "outputs": [],
   "source": [
    "recipe_start_dates = []\n",
    "for dic in recipe_dates:\n",
    "    for key in dic:\n",
    "        list_item = [key, dic[key]]\n",
    "        recipe_start_dates.append(list_item)\n",
    "\n",
    "recipe_start_dates_df = pd.DataFrame(recipe_start_dates, columns = ('recipe_link', 'recipe_start_date'))\n"
   ]
  },
  {
   "cell_type": "code",
   "execution_count": null,
   "metadata": {},
   "outputs": [],
   "source": [
    "recipe_start_dates_df['recipe_start_date'] = pd.to_datetime(recipe_start_dates_df['recipe_start_date'])\n",
    "recipe_start_dates_df['name'] = recipe_start_dates_df['recipe_link'].str.lstrip('/recipes/')\n",
    "recipe_start_dates_df['name'] = recipe_start_dates_df['name'].str.replace('[0-9]+','')\n",
    "recipe_start_dates_df['name'] = recipe_start_dates_df['name'].str.replace('-',' ')\n",
    "recipe_start_dates_df['name'] = recipe_start_dates_df['name'].str.title().str.lstrip()\n",
    "recipe_start_dates_df.head()\n"
   ]
  },
  {
   "cell_type": "code",
   "execution_count": null,
   "metadata": {},
   "outputs": [],
   "source": [
    "with open('Data Sets/Cleaned_Date_Data.pickle', 'wb') as to_write:\n",
    "        pickle.dump(recipe_start_dates_df, to_write)"
   ]
  }
 ],
 "metadata": {
  "kernelspec": {
   "display_name": "Python 3",
   "language": "python",
   "name": "python3"
  },
  "language_info": {
   "codemirror_mode": {
    "name": "ipython",
    "version": 3
   },
   "file_extension": ".py",
   "mimetype": "text/x-python",
   "name": "python",
   "nbconvert_exporter": "python",
   "pygments_lexer": "ipython3",
   "version": "3.8.5"
  }
 },
 "nbformat": 4,
 "nbformat_minor": 4
}
