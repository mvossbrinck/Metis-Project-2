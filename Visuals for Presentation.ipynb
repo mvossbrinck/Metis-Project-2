{
 "cells": [
  {
   "cell_type": "markdown",
   "metadata": {},
   "source": [
    "## Creates Tables and Graphs for Presentation"
   ]
  },
  {
   "cell_type": "code",
   "execution_count": null,
   "metadata": {},
   "outputs": [],
   "source": [
    "import pickle\n",
    "import matplotlib.pyplot as plt"
   ]
  },
  {
   "cell_type": "code",
   "execution_count": null,
   "metadata": {},
   "outputs": [],
   "source": [
    "with open('data_set3.pickle','rb') as read_file:\n",
    "    recipe_data = pickle.load(read_file)\n",
    "\n",
    "recipe_data.info()"
   ]
  },
  {
   "cell_type": "code",
   "execution_count": null,
   "metadata": {},
   "outputs": [],
   "source": [
    "fig = plt.figure(figsize=(8,5))\n",
    "plt.plot(recipe_data['recipe_start_date'], recipe_data['number_of_ratings'], \"o\",\n",
    "           markerfacecolor = \"#ea6b58\", markeredgecolor=\"#2b2b30\", markersize=10)\n",
    "#plt.title('Number of Ratings by Estimated Publish Date', fontsize = 20)\n",
    "plt.xlabel('Estimated Recipe Publish Date', fontsize=14)\n",
    "plt.ylabel('Number of Ratings', fontsize=14)\n",
    "plt.show();\n",
    "\n",
    "fig.savefig('test.png')"
   ]
  },
  {
   "cell_type": "code",
   "execution_count": null,
   "metadata": {},
   "outputs": [],
   "source": [
    "recipe_data['number_of_ratings'].describe()"
   ]
  },
  {
   "cell_type": "code",
   "execution_count": null,
   "metadata": {},
   "outputs": [],
   "source": [
    "recipe_data_condensed = recipe_data[['name','number_of_ratings', 'rating_value', 'author', 'recipe_start_date']]"
   ]
  },
  {
   "cell_type": "code",
   "execution_count": null,
   "metadata": {},
   "outputs": [],
   "source": [
    "recipe_data_condensed.sort_values(by='number_of_ratings', ascending = False).head(10)"
   ]
  }
 ],
 "metadata": {
  "kernelspec": {
   "display_name": "Python 3",
   "language": "python",
   "name": "python3"
  },
  "language_info": {
   "codemirror_mode": {
    "name": "ipython",
    "version": 3
   },
   "file_extension": ".py",
   "mimetype": "text/x-python",
   "name": "python",
   "nbconvert_exporter": "python",
   "pygments_lexer": "ipython3",
   "version": "3.8.5"
  }
 },
 "nbformat": 4,
 "nbformat_minor": 4
}
