{
 "cells": [
  {
   "cell_type": "markdown",
   "metadata": {},
   "source": [
    "## Pull Estimated Publish Date from Wayback Machine"
   ]
  },
  {
   "cell_type": "markdown",
   "metadata": {},
   "source": [
    "### Import Packages and Open Driver"
   ]
  },
  {
   "cell_type": "code",
   "execution_count": null,
   "metadata": {},
   "outputs": [],
   "source": [
    "from bs4 import BeautifulSoup\n",
    "import requests\n",
    "import time, os\n",
    "import pickle\n",
    "import random\n",
    "from selenium.webdriver.support.ui import WebDriverWait\n",
    "from selenium.common.exceptions import NoSuchElementException\n",
    "from fake_useragent import UserAgent\n",
    "from selenium import webdriver\n",
    "from selenium.webdriver.common.keys import Keys\n",
    "\n",
    "chromedriver = \"/Applications/chromedriver\" # path to the chromedriver executable\n",
    "os.environ[\"webdriver.chrome.driver\"] = chromedriver\n",
    "\n",
    "driver = webdriver.Chrome(chromedriver)"
   ]
  },
  {
   "cell_type": "markdown",
   "metadata": {},
   "source": [
    "### Function to pull first snapshot date from Wayback Machine"
   ]
  },
  {
   "cell_type": "code",
   "execution_count": null,
   "metadata": {},
   "outputs": [],
   "source": [
    "def get_start_date(link):\n",
    "\n",
    "    \n",
    "    driver.implicitly_wait(15)\n",
    "    base_url = 'https://web.archive.org/web/*/https://cooking.nytimes.com'\n",
    "    url = base_url + link\n",
    "    driver.get(url)\n",
    "    try:\n",
    "        element = driver.find_element_by_xpath('//div[contains(@class, \"captures-range-info\")]//a')\n",
    "    except NoSuchElementException:\n",
    "        element = None\n",
    "    \n",
    "    try:\n",
    "        start_date = element.text\n",
    "    except AttributeError:\n",
    "        start_date = None\n",
    "    date_dict = {link : start_date}\n",
    "    time.sleep(2+2*random.random())\n",
    "    return(date_dict)\n"
   ]
  },
  {
   "cell_type": "markdown",
   "metadata": {},
   "source": [
    "### Open list of recipe links and pull first snapshot date"
   ]
  },
  {
   "cell_type": "code",
   "execution_count": null,
   "metadata": {},
   "outputs": [],
   "source": [
    "with open('all_recipes_first.pickle','rb') as read_file:\n",
    "    recipe_links = pickle.load(read_file)\n",
    "\n",
    "recipe_links_sorted = sorted(recipe_links)"
   ]
  },
  {
   "cell_type": "code",
   "execution_count": null,
   "metadata": {},
   "outputs": [],
   "source": [
    "# I got kicked out multiple times so had to run it multiple times for specific \n",
    "# rows in recipe_links_sorted\n",
    "\n",
    "recipe_date_list = []\n",
    "\n",
    "for link in recipe_links_sorted[:]:\n",
    "    recipe_date_list.append(get_start_date(link))"
   ]
  },
  {
   "cell_type": "markdown",
   "metadata": {},
   "source": [
    "### Export Data"
   ]
  },
  {
   "cell_type": "code",
   "execution_count": null,
   "metadata": {},
   "outputs": [],
   "source": [
    "with open('recipe_dates.pickle', 'wb') as to_write:\n",
    "        pickle.dump(recipe_date_list, to_write)"
   ]
  }
 ],
 "metadata": {
  "kernelspec": {
   "display_name": "Python 3",
   "language": "python",
   "name": "python3"
  },
  "language_info": {
   "codemirror_mode": {
    "name": "ipython",
    "version": 3
   },
   "file_extension": ".py",
   "mimetype": "text/x-python",
   "name": "python",
   "nbconvert_exporter": "python",
   "pygments_lexer": "ipython3",
   "version": "3.8.5"
  }
 },
 "nbformat": 4,
 "nbformat_minor": 4
}
