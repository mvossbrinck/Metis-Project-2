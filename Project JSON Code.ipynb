{
 "cells": [
  {
   "cell_type": "code",
   "execution_count": 1,
   "metadata": {},
   "outputs": [],
   "source": [
    "from bs4 import BeautifulSoup\n",
    "import pandas as pd\n",
    "import requests\n",
    "import json\n",
    "from pprint import pprint\n",
    "import extruct\n",
    "from w3lib.html import get_base_url"
   ]
  },
  {
   "cell_type": "code",
   "execution_count": 10,
   "metadata": {},
   "outputs": [],
   "source": [
    "url = 'https://cooking.nytimes.com/recipes/1019641-tuna-poke'\n",
    "response = requests.get(url)\n",
    "html = response.text\n",
    "metadata = extruct.extract(\n",
    "        html,\n",
    "        base_url=get_base_url(html, url),\n",
    "        syntaxes=['json-ld'],\n",
    "    )['json-ld'][0]\n",
    "# used https://hackersandslackers.com/scrape-metadata-json-ld/"
   ]
  },
  {
   "cell_type": "code",
   "execution_count": 12,
   "metadata": {},
   "outputs": [
    {
     "data": {
      "text/plain": [
       "'Tuna Poke'"
      ]
     },
     "execution_count": 12,
     "metadata": {},
     "output_type": "execute_result"
    }
   ],
   "source": [
    "number_of_steps = len(metadata['recipeInstructions'])\n",
    "number_of_ratings = metadata['aggregateRating']['ratingCount']\n",
    "rating_value = metadata['aggregateRating']['ratingValue']\n",
    "author = metadata['author']['name']\n",
    "recipe_time = metadata['totalTime']\n",
    "number_of_ingredients = len(metadata['recipeIngredient'])\n",
    "number_of_servings = metadata['recipeYield']\n",
    "recipe_categories = metadata['recipeCategory']\n",
    "recipe_keywords = metadata['keywords']\n",
    "image_link = metadata['image']\n",
    "name = metadata['name']\n",
    "name"
   ]
  },
  {
   "cell_type": "code",
   "execution_count": 4,
   "metadata": {},
   "outputs": [
    {
     "data": {
      "text/plain": [
       "{'@context': 'http://schema.org',\n",
       " '@type': 'Recipe',\n",
       " 'name': 'Penne all’Arrabbiata',\n",
       " 'description': 'This, Mario Batali wrote in 2013 in The Times, is one of his late-night favorites. Its uncomplicated nature lends itself to an after-midnight feast. It’s basically pasta with tomato sauce and cheese, but red pepper flakes give the sauce a delicious kick.',\n",
       " 'author': {'@type': 'Person', 'name': 'The New York Times'},\n",
       " 'image': 'https://static01.nyt.com/images/2015/12/21/dining/21COOKING_PENNEARRABBIATA/21COOKING_PENNEARRABBIATA-articleLarge.jpg',\n",
       " 'totalTime': 'PT30M',\n",
       " 'recipeYield': '6 servings',\n",
       " 'recipeCuisine': '',\n",
       " 'recipeCategory': 'dinner, easy, lunch, quick, main course',\n",
       " 'keywords': 'vegetarian',\n",
       " 'aggregateRating': {'@type': 'AggregateRating',\n",
       "  'ratingValue': 5,\n",
       "  'ratingCount': 1204},\n",
       " 'nutrition': {'@context': 'http://schema.org',\n",
       "  '@type': 'NutritionInformation',\n",
       "  'calories': 466,\n",
       "  'unsaturatedFatContent': '16 grams',\n",
       "  'carbohydrateContent': '62 grams',\n",
       "  'cholesterolContent': None,\n",
       "  'fatContent': '19 grams',\n",
       "  'fiberContent': '4 grams',\n",
       "  'proteinContent': '11 grams',\n",
       "  'saturatedFatContent': '3 grams',\n",
       "  'sodiumContent': '356 milligrams',\n",
       "  'sugarContent': '6 grams',\n",
       "  'transFatContent': None},\n",
       " 'recipeIngredient': ['3 tablespoons kosher salt',\n",
       "  '4 tablespoons extra-virgin olive oil,\\tplus 4 more tablespoons',\n",
       "  '1/2 cup tomato paste',\n",
       "  '1 tablespoon hot red-pepper flakes',\n",
       "  '1 1/2 cups chopped tomatoes, like Pomì',\n",
       "  '1 pound penne',\n",
       "  'Maldon or other flaky sea salt',\n",
       "  'Freshly grated Parmigiano-Reggiano for serving'],\n",
       " 'recipeInstructions': [{'@context': 'http://schema.org',\n",
       "   '@type': 'HowToStep',\n",
       "   'text': 'Bring 6 quarts of water to a boil  in a large pot, and add 3 tablespoons kosher salt.'},\n",
       "  {'@context': 'http://schema.org',\n",
       "   '@type': 'HowToStep',\n",
       "   'text': 'Meanwhile, put 4 tablespoons olive oil in a large sauté pan over medium heat, and then add the tomato paste and pepper flakes; reduce the heat to low and stir just until fragrant, about 4 minutes. Stir in the tomatoes, and remove from the heat.'},\n",
       "  {'@context': 'http://schema.org',\n",
       "   '@type': 'HowToStep',\n",
       "   'text': 'Drop the pasta into the boiling water, and cook until al dente. Drain the pasta, reserving 1/4  cup of the pasta water.'},\n",
       "  {'@context': 'http://schema.org',\n",
       "   '@type': 'HowToStep',\n",
       "   'text': 'Add the pasta and the reserved pasta water to the tomato sauce, stir and toss over medium heat until the pasta is well coated. Season with salt if necessary, then add the remaining oil, tossing well. Serve immediately, with grated Parmigiano-Reggiano on the side.'}],\n",
       " 'isAccessibleForFree': 'False',\n",
       " 'hasPart': {'@type': 'WebPageElement',\n",
       "  'isAccessibleForFree': 'False',\n",
       "  'cssSelector': '.recipe'},\n",
       " 'publisher': {'@context': 'http://schema.org',\n",
       "  '@type': 'Organization',\n",
       "  'name': 'NYT Cooking',\n",
       "  'url': 'https://cooking.nytimes.com',\n",
       "  'alternateName': ['nytimes cooking', 'New York Times Cooking'],\n",
       "  'image': [{'url': 'https://static01.nyt.com/applications/cooking/fdf7a67/assets/SiteLogoRed.svg',\n",
       "    'height': 31,\n",
       "    'width': 168,\n",
       "    '@context': 'http://schema.org',\n",
       "    '@type': 'ImageObject'},\n",
       "   {'url': 'https://static01.nyt.com/applications/cooking/fdf7a67/assets/SiteLogoBlack.svg',\n",
       "    'height': 24,\n",
       "    'width': 131,\n",
       "    '@context': 'http://schema.org',\n",
       "    '@type': 'ImageObject'}],\n",
       "  'sameAs': ['https://www.facebook.com/groups/nytcooks/',\n",
       "   'https://www.facebook.com/nytcooking/',\n",
       "   'https://www.instagram.com/nytcooking/',\n",
       "   'https://twitter.com/nytfood',\n",
       "   'https://www.youtube.com/channel/UC1rIOwTqDuWkFj87HZYRFOg']}}"
      ]
     },
     "execution_count": 4,
     "metadata": {},
     "output_type": "execute_result"
    }
   ],
   "source": [
    "metadata"
   ]
  },
  {
   "cell_type": "code",
   "execution_count": 5,
   "metadata": {},
   "outputs": [
    {
     "data": {
      "text/plain": [
       "str"
      ]
     },
     "execution_count": 5,
     "metadata": {},
     "output_type": "execute_result"
    }
   ],
   "source": [
    "type(html)"
   ]
  },
  {
   "cell_type": "code",
   "execution_count": null,
   "metadata": {},
   "outputs": [],
   "source": []
  }
 ],
 "metadata": {
  "kernelspec": {
   "display_name": "Python 3",
   "language": "python",
   "name": "python3"
  },
  "language_info": {
   "codemirror_mode": {
    "name": "ipython",
    "version": 3
   },
   "file_extension": ".py",
   "mimetype": "text/x-python",
   "name": "python",
   "nbconvert_exporter": "python",
   "pygments_lexer": "ipython3",
   "version": "3.8.5"
  }
 },
 "nbformat": 4,
 "nbformat_minor": 4
}
